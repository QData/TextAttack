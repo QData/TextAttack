{
 "cells": [
  {
   "cell_type": "markdown",
   "source": [
    "# TextAttack Augmentation"
   ],
   "metadata": {
    "id": "m83IiqVREJ96"
   }
  },
  {
   "cell_type": "markdown",
   "source": [
    "[![Open In Colab](https://colab.research.google.com/assets/colab-badge.svg)](https://colab.research.google.com/github/QData/TextAttack/blob/master/docs/2notebook/3_Augmentations.ipynb)\n",
    "\n",
    "[![View Source on GitHub](https://img.shields.io/badge/github-view%20source-black.svg)](https://github.com/QData/TextAttack/blob/master/docs/2notebook/3_Augmentations.ipynb)"
   ],
   "metadata": {
    "id": "6UZ0d84hEJ98"
   }
  },
  {
   "cell_type": "code",
   "execution_count": null,
   "source": [
    "!pip install textattack[tensorflow]"
   ],
   "outputs": [],
   "metadata": {}
  },
  {
   "cell_type": "markdown",
   "source": [
    "Augmenting a dataset using TextAttack requries only a few lines of code when it is done right. The `Augmenter` class is created for this purpose to generate augmentations of a string or a list of strings. Augmentation could be done in either python script or command line.\n",
    "\n",
    "### Creating an Augmenter\n",
    "\n",
    "The **Augmenter** class is essensial for performing data augmentation using TextAttack. It takes in four paramerters in the following order:\n",
    "\n",
    "\n",
    "1.  **transformation**: all [transformations](https://textattack.readthedocs.io/en/latest/apidoc/textattack.transformations.html) implemented by TextAttack can be used to create an `Augmenter`. Note here that if we want to apply multiple transformations in the same time, they first need to be incooporated into a `CompositeTransformation` class.\n",
    "2.  **constraints**: [constraints](https://textattack.readthedocs.io/en/latest/apidoc/textattack.constraints.html#) determine whether or not a given augmentation is valid, consequently enhancing the quality of the augmentations. The default augmenter does not have any constraints but contraints can be supplied as a list to the Augmenter.\n",
    "3.  **pct_words_to_swap**:  percentage of words to swap per augmented example. The default is set to 0.1 (10%).\n",
    "4.  **transformations_per_example** maximum number of augmentations per input. The default is set to 1 (one augmented sentence given one original input)\n",
    "\n",
    "An example of creating one's own augmenter is shown below. In this case, we are creating an augmenter with **RandomCharacterDeletion** and **WordSwapQWERTY** transformations, **RepeatModification** and **StopWordModification** constraints. A maximum of **50%** of the words could be purturbed, and 10 augmentations will be generated from each input sentence.\n"
   ],
   "metadata": {
    "id": "qZ5xnoevEJ99"
   }
  },
  {
   "cell_type": "code",
   "execution_count": 1,
   "source": [
    "# import transformations, contraints, and the Augmenter\n",
    "from textattack.transformations import WordSwapRandomCharacterDeletion\n",
    "from textattack.transformations import WordSwapQWERTY\n",
    "from textattack.transformations import CompositeTransformation\n",
    "\n",
    "from textattack.constraints.pre_transformation import RepeatModification\n",
    "from textattack.constraints.pre_transformation import StopwordModification\n",
    "\n",
    "from textattack.augmentation import Augmenter"
   ],
   "outputs": [],
   "metadata": {
    "id": "5AXyxiLD4X93"
   }
  },
  {
   "cell_type": "code",
   "execution_count": 2,
   "source": [
    "# Set up transformation using CompositeTransformation()\n",
    "transformation = CompositeTransformation([WordSwapRandomCharacterDeletion(), WordSwapQWERTY()])\n",
    "# Set up constraints\n",
    "constraints = [RepeatModification(), StopwordModification()]\n",
    "# Create augmenter with specified parameters\n",
    "augmenter = Augmenter(transformation=transformation, constraints=constraints, pct_words_to_swap=0.5, transformations_per_example=10)\n",
    "s = 'What I cannot create, I do not understand.'\n",
    "# Augment!\n",
    "augmenter.augment(s)"
   ],
   "outputs": [
    {
     "output_type": "execute_result",
     "data": {
      "text/plain": [
       "['Ahat I camnot reate, I do not unerstand.',\n",
       " 'Ahat I cwnnot crewte, I do not undefstand.',\n",
       " 'Wat I camnot vreate, I do not undefstand.',\n",
       " 'Wha I annot crate, I do not unerstand.',\n",
       " 'Whaf I canno creatr, I do not ynderstand.',\n",
       " 'Wtat I cannor dreate, I do not understwnd.',\n",
       " 'Wuat I canno ceate, I do not unferstand.',\n",
       " 'hat I cnnot ceate, I do not undersand.',\n",
       " 'hat I cnnot cfeate, I do not undfrstand.',\n",
       " 'hat I cwnnot crfate, I do not ujderstand.']"
      ]
     },
     "metadata": {},
     "execution_count": 2
    }
   ],
   "metadata": {
    "colab": {
     "base_uri": "https://localhost:8080/"
    },
    "id": "wFeXF_OL-vyw",
    "outputId": "c041e77e-accd-4a58-88be-9b140dd0cd56"
   }
  },
  {
   "cell_type": "markdown",
   "source": [
    "### Pre-built Augmentation Recipes\n",
    "\n",
    "In addition to creating our own augmenter, we could also use pre-built augmentation recipes to perturb datasets. These recipes are implemented from publishded papers and are very convenient to use. The list of available recipes can be found [here](https://textattack.readthedocs.io/en/latest/3recipes/augmenter_recipes.html).\n"
   ],
   "metadata": {
    "id": "b7020KtvEJ9-"
   }
  },
  {
   "cell_type": "markdown",
   "source": [
    "In the following example, we will use the `CheckListAugmenter` to showcase our augmentation recipes. The `CheckListAugmenter` augments words by using the transformation methods provided by CheckList INV testing, which combines **Name Replacement**, **Location Replacement**, **Number Alteration**, and **Contraction/Extension**. The original paper can be found here: [\"Beyond Accuracy: Behavioral Testing of NLP models with CheckList\" (Ribeiro et al., 2020)](https://arxiv.org/abs/2005.04118)"
   ],
   "metadata": {
    "id": "pkBqK5wYQKZu"
   }
  },
  {
   "cell_type": "code",
   "execution_count": 3,
   "source": [
    "# import the CheckListAugmenter\n",
    "from textattack.augmentation import CheckListAugmenter\n",
    "# Alter default values if desired\n",
    "augmenter = CheckListAugmenter(pct_words_to_swap=0.2, transformations_per_example=5)\n",
    "s = \"I'd love to go to Japan but the tickets are 500 dollars\"\n",
    "# Augment\n",
    "augmenter.augment(s)"
   ],
   "outputs": [
    {
     "output_type": "stream",
     "name": "stdout",
     "text": [
      "2021-06-09 16:58:41,816 --------------------------------------------------------------------------------\n",
      "2021-06-09 16:58:41,817 The model key 'ner' now maps to 'https://huggingface.co/flair/ner-english' on the HuggingFace ModelHub\n",
      "2021-06-09 16:58:41,817  - The most current version of the model is automatically downloaded from there.\n",
      "2021-06-09 16:58:41,818  - (you can alternatively manually download the original model at https://nlp.informatik.hu-berlin.de/resources/models/ner/en-ner-conll03-v0.4.pt)\n",
      "2021-06-09 16:58:41,818 --------------------------------------------------------------------------------\n",
      "2021-06-09 16:58:41,906 loading file /u/lab/jy2ma/.flair/models/ner-english/4f4cdab26f24cb98b732b389e6cebc646c36f54cfd6e0b7d3b90b25656e4262f.8baa8ae8795f4df80b28e7f7b61d788ecbb057d1dc85aacb316f1bd02837a4a4\n"
     ]
    },
    {
     "output_type": "execute_result",
     "data": {
      "text/plain": [
       "['I would love to go to Chile but the tickets are 500 dollars',\n",
       " 'I would love to go to Japan but the tickets are 500 dollars',\n",
       " 'I would love to go to Japan but the tickets are 75 dollars',\n",
       " \"I'd love to go to Oman but the tickets are 373 dollars\",\n",
       " \"I'd love to go to Vietnam but the tickets are 613 dollars\"]"
      ]
     },
     "metadata": {},
     "execution_count": 3
    }
   ],
   "metadata": {
    "colab": {
     "base_uri": "https://localhost:8080/"
    },
    "id": "WkYiVH6lQedu",
    "outputId": "cd5ffc65-ca80-45cd-b3bb-d023bcad09a4"
   }
  },
  {
   "cell_type": "markdown",
   "source": [
    "Note that the previous snippet of code is equivalent of running\n",
    "\n",
    "```\n",
    "textattack augment --recipe checklist --pct-words-to-swap .1 --transformations-per-example 5 --exclude-original --interactive\n",
    "```\n",
    "in command line.\n"
   ],
   "metadata": {
    "id": "5vn22xrLST0H"
   }
  },
  {
   "cell_type": "markdown",
   "source": [
    "\n",
    "\n",
    "\n",
    "Here's another example of using `WordNetAugmenter`:\n"
   ],
   "metadata": {
    "id": "VqfmCKz0XY-Y"
   }
  },
  {
   "cell_type": "code",
   "execution_count": 4,
   "source": [
    "from textattack.augmentation import WordNetAugmenter\n",
    "augmenter = WordNetAugmenter(pct_words_to_swap=0.2, transformations_per_example=5)\n",
    "s = \"I'd love to go to Japan but the tickets are 500 dollars\"\n",
    "augmenter.augment(s)"
   ],
   "outputs": [
    {
     "output_type": "execute_result",
     "data": {
      "text/plain": [
       "[\"I'd fuck to fit to Japan but the tickets are 500 dollars\",\n",
       " \"I'd know to cristal to Japan but the tickets are 500 dollars\",\n",
       " \"I'd love to depart to Japan but the tickets are D dollars\",\n",
       " \"I'd love to get to Nihon but the tickets are 500 dollars\",\n",
       " \"I'd love to work to Japan but the tickets are 500 buck\"]"
      ]
     },
     "metadata": {},
     "execution_count": 4
    }
   ],
   "metadata": {
    "colab": {
     "base_uri": "https://localhost:8080/"
    },
    "id": "l2b-4scuXvkA",
    "outputId": "72a78a95-ffc0-4d2a-b98c-b456d338807d"
   }
  },
  {
   "cell_type": "markdown",
   "source": [
    "### Conclusion\n",
    "We have now went through the basics in running `Augmenter` by either creating a new augmenter from scratch or using a pre-built augmenter. This could be done in as few as 4 lines of code so please give it a try if you haven't already! 🐙"
   ],
   "metadata": {
    "id": "whvwbHLVEJ-S"
   }
  }
 ],
 "metadata": {
  "colab": {
   "name": "Augmentation with TextAttack.ipynb",
   "provenance": []
  },
  "kernelspec": {
   "display_name": "Python 3",
   "language": "python",
   "name": "python3"
  },
  "language_info": {
   "codemirror_mode": {
    "name": "ipython",
    "version": 3
   },
   "file_extension": ".py",
   "mimetype": "text/x-python",
   "name": "python",
   "nbconvert_exporter": "python",
   "pygments_lexer": "ipython3",
   "version": "3.8.8"
  }
 },
 "nbformat": 4,
 "nbformat_minor": 4
}